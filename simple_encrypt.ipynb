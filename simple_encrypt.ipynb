{
 "cells": [
  {
   "cell_type": "code",
   "execution_count": 1,
   "metadata": {},
   "outputs": [],
   "source": [
    "import random\n",
    "import binascii\n",
    "import math"
   ]
  },
  {
   "cell_type": "code",
   "execution_count": 2,
   "metadata": {
    "scrolled": true
   },
   "outputs": [],
   "source": [
    "string = \"shree\"\n",
    "bin = ''.join(format(ord(x), 'b').zfill(8) for x in string)\n",
    "len(bin)"
   ]
  },
  {
   "cell_type": "code",
   "execution_count": 3,
   "metadata": {},
   "outputs": [],
   "source": [
    "m = 5\n",
    "stop = int(len(bin)/m)\n",
    "lst = []\n",
    "j = 0\n",
    "for i in range(stop+1):\n",
    "    if j+m < len(bin):\n",
    "        lst.append(bin[j:j+m])\n",
    "        j = j+m\n",
    "    else:\n",
    "        lst.append(bin[j:])\n",
    "lst"
   ]
  },
  {
   "cell_type": "code",
   "execution_count": 4,
   "metadata": {},
   "outputs": [],
   "source": [
    "n = 2"
   ]
  },
  {
   "cell_type": "code",
   "execution_count": 5,
   "metadata": {},
   "outputs": [],
   "source": [
    "for i in range(len(lst)-1):\n",
    "    lst[i] = '00' + lst[i]\n",
    "lst[-1] = '0000' + lst[-1]"
   ]
  },
  {
   "cell_type": "code",
   "execution_count": 6,
   "metadata": {},
   "outputs": [
    {
     "data": {
      "text/plain": [
       "['0001110',\n",
       " '0001101',\n",
       " '0010100',\n",
       " '0000111',\n",
       " '0000100',\n",
       " '0011001',\n",
       " '0001011',\n",
       " '0000101',\n",
       " '000000101']"
      ]
     },
     "execution_count": 6,
     "metadata": {},
     "output_type": "execute_result"
    }
   ],
   "source": [
    "lst"
   ]
  },
  {
   "cell_type": "code",
   "execution_count": 7,
   "metadata": {},
   "outputs": [
    {
     "data": {
      "text/plain": [
       "['00101110',\n",
       " '00101101',\n",
       " '00110100',\n",
       " '00000111',\n",
       " '00100100',\n",
       " '00111001',\n",
       " '00101011',\n",
       " '00000101',\n",
       " '0010000101']"
      ]
     },
     "execution_count": 7,
     "metadata": {},
     "output_type": "execute_result"
    }
   ],
   "source": [
    "for i in range(len(lst)): \n",
    "    con = str(random.randrange(0,2))\n",
    "    lst[i] = lst[i][:n] + con + lst[i][n:]\n",
    "lst"
   ]
  },
  {
   "cell_type": "code",
   "execution_count": 8,
   "metadata": {},
   "outputs": [],
   "source": [
    "def str_to_bin(a):\n",
    "    sum = 0\n",
    "    for i in range(len(a)):\n",
    "        sum += int(a[-1-i]) * math.pow(2, i)\n",
    "    return int(sum)"
   ]
  },
  {
   "cell_type": "code",
   "execution_count": 9,
   "metadata": {},
   "outputs": [
    {
     "data": {
      "text/plain": [
       "[46, 45, 52, 7, 36, 57, 43, 5, 133]"
      ]
     },
     "execution_count": 9,
     "metadata": {},
     "output_type": "execute_result"
    }
   ],
   "source": [
    "for i in range(len(lst)):\n",
    "    lst[i] = str_to_bin(lst[i])\n",
    "lst"
   ]
  },
  {
   "cell_type": "code",
   "execution_count": 10,
   "metadata": {},
   "outputs": [],
   "source": [
    "lst = [chr(x) for x in lst]"
   ]
  },
  {
   "cell_type": "code",
   "execution_count": 11,
   "metadata": {},
   "outputs": [
    {
     "data": {
      "text/plain": [
       "['.', '-', '4', '\\x07', '$', '9', '+', '\\x05', '\\x85']"
      ]
     },
     "execution_count": 11,
     "metadata": {},
     "output_type": "execute_result"
    }
   ],
   "source": [
    "lst"
   ]
  },
  {
   "cell_type": "code",
   "execution_count": 12,
   "metadata": {},
   "outputs": [
    {
     "data": {
      "text/plain": [
       "['00101110',\n",
       " '00101101',\n",
       " '00110100',\n",
       " '00000111',\n",
       " '00100100',\n",
       " '00111001',\n",
       " '00101011',\n",
       " '00000101',\n",
       " '10000101']"
      ]
     },
     "execution_count": 12,
     "metadata": {},
     "output_type": "execute_result"
    }
   ],
   "source": [
    "out = [format(ord(x), 'b').zfill(8) for x in lst]\n",
    "out"
   ]
  },
  {
   "cell_type": "code",
   "execution_count": 13,
   "metadata": {},
   "outputs": [
    {
     "data": {
      "text/plain": [
       "['0001110',\n",
       " '0001101',\n",
       " '0010100',\n",
       " '0000111',\n",
       " '0000100',\n",
       " '0011001',\n",
       " '0001011',\n",
       " '0000101',\n",
       " '1000101']"
      ]
     },
     "execution_count": 13,
     "metadata": {},
     "output_type": "execute_result"
    }
   ],
   "source": [
    "for i in range(len(out)): \n",
    "    out[i] = out[i][:n] + out[i][n+1:]\n",
    "out"
   ]
  },
  {
   "cell_type": "code",
   "execution_count": 14,
   "metadata": {},
   "outputs": [
    {
     "data": {
      "text/plain": [
       "['01110',\n",
       " '01101',\n",
       " '10100',\n",
       " '00111',\n",
       " '00100',\n",
       " '11001',\n",
       " '01011',\n",
       " '00101',\n",
       " '00101']"
      ]
     },
     "execution_count": 14,
     "metadata": {},
     "output_type": "execute_result"
    }
   ],
   "source": [
    "for i in range(len(out)):\n",
    "    out[i] = out[i][len(out[i])-m:]\n",
    "out"
   ]
  },
  {
   "cell_type": "code",
   "execution_count": 15,
   "metadata": {},
   "outputs": [
    {
     "data": {
      "text/plain": [
       "'011100110110100001110010011001010110010100101'"
      ]
     },
     "execution_count": 15,
     "metadata": {},
     "output_type": "execute_result"
    }
   ],
   "source": [
    "opstr = ''\n",
    "for i in out: \n",
    "    opstr = opstr + i\n",
    "opstr"
   ]
  },
  {
   "cell_type": "code",
   "execution_count": 16,
   "metadata": {},
   "outputs": [
    {
     "data": {
      "text/plain": [
       "['s', 'h', 'r', 'e', 'e']"
      ]
     },
     "execution_count": 16,
     "metadata": {},
     "output_type": "execute_result"
    }
   ],
   "source": [
    "decrypt = []\n",
    "j = 0\n",
    "while j<len(opstr):\n",
    "    decrypt.append(opstr[j:j+8])\n",
    "    j = j+8\n",
    "    if(len(decrypt[-1])<8):\n",
    "        decrypt.remove(decrypt[-1])\n",
    "decrypt\n",
    "for i in range(len(decrypt)):\n",
    "    decrypt[i] = str_to_bin(decrypt[i])\n",
    "decrypt\n",
    "output = [chr(x) for x in decrypt]\n",
    "output"
   ]
  },
  {
   "cell_type": "code",
   "execution_count": null,
   "metadata": {},
   "outputs": [],
   "source": []
  }
 ],
 "metadata": {
  "kernelspec": {
   "display_name": "Python 3",
   "language": "python",
   "name": "python3"
  },
  "language_info": {
   "codemirror_mode": {
    "name": "ipython",
    "version": 3
   },
   "file_extension": ".py",
   "mimetype": "text/x-python",
   "name": "python",
   "nbconvert_exporter": "python",
   "pygments_lexer": "ipython3",
   "version": "3.7.1"
  }
 },
 "nbformat": 4,
 "nbformat_minor": 2
}
