{
 "cells": [
  {
   "cell_type": "code",
   "execution_count": 1,
   "metadata": {},
   "outputs": [],
   "source": [
    "import random\n",
    "import binascii\n",
    "import math"
   ]
  },
  {
   "cell_type": "code",
   "execution_count": 17,
   "metadata": {
    "scrolled": true
   },
   "outputs": [
    {
     "data": {
      "text/plain": [
       "48"
      ]
     },
     "execution_count": 17,
     "metadata": {},
     "output_type": "execute_result"
    }
   ],
   "source": [
    "string = \"qwerty\"\n",
    "bin = ''.join(format(ord(x), 'b').zfill(8) for x in string)\n",
    "len(bin)"
   ]
  },
  {
   "cell_type": "code",
   "execution_count": 18,
   "metadata": {},
   "outputs": [
    {
     "data": {
      "text/plain": [
       "['0111',\n",
       " '0001',\n",
       " '0111',\n",
       " '0111',\n",
       " '0110',\n",
       " '0101',\n",
       " '0111',\n",
       " '0010',\n",
       " '0111',\n",
       " '0100',\n",
       " '0111',\n",
       " '1001',\n",
       " '1001']"
      ]
     },
     "execution_count": 18,
     "metadata": {},
     "output_type": "execute_result"
    }
   ],
   "source": [
    "m = 4\n",
    "stop = int(len(bin)/m)\n",
    "lst = []\n",
    "j = 0\n",
    "for i in range(stop+1):\n",
    "    if j+m < len(bin):\n",
    "        lst.append(bin[j:j+m])\n",
    "        j = j+m\n",
    "    else:\n",
    "        lst.append(bin[j:])\n",
    "lst"
   ]
  },
  {
   "cell_type": "code",
   "execution_count": 19,
   "metadata": {},
   "outputs": [],
   "source": [
    "n = 2"
   ]
  },
  {
   "cell_type": "code",
   "execution_count": 20,
   "metadata": {},
   "outputs": [],
   "source": [
    "for i in range(len(lst)-1):\n",
    "    lst[i] = '00' + lst[i]\n",
    "lst[-1] = '0000' + lst[-1]"
   ]
  },
  {
   "cell_type": "code",
   "execution_count": 21,
   "metadata": {},
   "outputs": [
    {
     "data": {
      "text/plain": [
       "['000111',\n",
       " '000001',\n",
       " '000111',\n",
       " '000111',\n",
       " '000110',\n",
       " '000101',\n",
       " '000111',\n",
       " '000010',\n",
       " '000111',\n",
       " '000100',\n",
       " '000111',\n",
       " '001001',\n",
       " '00001001']"
      ]
     },
     "execution_count": 21,
     "metadata": {},
     "output_type": "execute_result"
    }
   ],
   "source": [
    "lst"
   ]
  },
  {
   "cell_type": "code",
   "execution_count": 22,
   "metadata": {},
   "outputs": [
    {
     "data": {
      "text/plain": [
       "['0010111',\n",
       " '0010001',\n",
       " '0000111',\n",
       " '0000111',\n",
       " '0000110',\n",
       " '0010101',\n",
       " '0010111',\n",
       " '0010010',\n",
       " '0000111',\n",
       " '0000100',\n",
       " '0010111',\n",
       " '0001001',\n",
       " '000001001']"
      ]
     },
     "execution_count": 22,
     "metadata": {},
     "output_type": "execute_result"
    }
   ],
   "source": [
    "for i in range(len(lst)): \n",
    "    con = str(random.randrange(0,2))\n",
    "    lst[i] = lst[i][:n] + con + lst[i][n:]\n",
    "lst"
   ]
  },
  {
   "cell_type": "code",
   "execution_count": 23,
   "metadata": {},
   "outputs": [],
   "source": [
    "def str_to_bin(a):\n",
    "    sum = 0\n",
    "    for i in range(len(a)):\n",
    "        sum += int(a[-1-i]) * math.pow(2, i)\n",
    "    return int(sum)"
   ]
  },
  {
   "cell_type": "code",
   "execution_count": 24,
   "metadata": {},
   "outputs": [
    {
     "data": {
      "text/plain": [
       "[23, 17, 7, 7, 6, 21, 23, 18, 7, 4, 23, 9, 9]"
      ]
     },
     "execution_count": 24,
     "metadata": {},
     "output_type": "execute_result"
    }
   ],
   "source": [
    "for i in range(len(lst)):\n",
    "    lst[i] = str_to_bin(lst[i])\n",
    "lst"
   ]
  },
  {
   "cell_type": "code",
   "execution_count": 25,
   "metadata": {},
   "outputs": [],
   "source": [
    "lst = [chr(x) for x in lst]"
   ]
  },
  {
   "cell_type": "code",
   "execution_count": 26,
   "metadata": {},
   "outputs": [
    {
     "data": {
      "text/plain": [
       "['\\x17',\n",
       " '\\x11',\n",
       " '\\x07',\n",
       " '\\x07',\n",
       " '\\x06',\n",
       " '\\x15',\n",
       " '\\x17',\n",
       " '\\x12',\n",
       " '\\x07',\n",
       " '\\x04',\n",
       " '\\x17',\n",
       " '\\t',\n",
       " '\\t']"
      ]
     },
     "execution_count": 26,
     "metadata": {},
     "output_type": "execute_result"
    }
   ],
   "source": [
    "lst"
   ]
  },
  {
   "cell_type": "code",
   "execution_count": 27,
   "metadata": {},
   "outputs": [
    {
     "data": {
      "text/plain": [
       "['00010111',\n",
       " '00010001',\n",
       " '00000111',\n",
       " '00000111',\n",
       " '00000110',\n",
       " '00010101',\n",
       " '00010111',\n",
       " '00010010',\n",
       " '00000111',\n",
       " '00000100',\n",
       " '00010111',\n",
       " '00001001',\n",
       " '00001001']"
      ]
     },
     "execution_count": 27,
     "metadata": {},
     "output_type": "execute_result"
    }
   ],
   "source": [
    "out = [format(ord(x), 'b').zfill(8) for x in lst]\n",
    "out"
   ]
  },
  {
   "cell_type": "code",
   "execution_count": 28,
   "metadata": {},
   "outputs": [
    {
     "data": {
      "text/plain": [
       "['0010111',\n",
       " '0010001',\n",
       " '0000111',\n",
       " '0000111',\n",
       " '0000110',\n",
       " '0010101',\n",
       " '0010111',\n",
       " '0010010',\n",
       " '0000111',\n",
       " '0000100',\n",
       " '0010111',\n",
       " '0001001',\n",
       " '0001001']"
      ]
     },
     "execution_count": 28,
     "metadata": {},
     "output_type": "execute_result"
    }
   ],
   "source": [
    "for i in range(len(out)): \n",
    "    out[i] = out[i][:n] + out[i][n+1:]\n",
    "out"
   ]
  },
  {
   "cell_type": "code",
   "execution_count": 29,
   "metadata": {},
   "outputs": [
    {
     "data": {
      "text/plain": [
       "['0111',\n",
       " '0001',\n",
       " '0111',\n",
       " '0111',\n",
       " '0110',\n",
       " '0101',\n",
       " '0111',\n",
       " '0010',\n",
       " '0111',\n",
       " '0100',\n",
       " '0111',\n",
       " '1001',\n",
       " '1001']"
      ]
     },
     "execution_count": 29,
     "metadata": {},
     "output_type": "execute_result"
    }
   ],
   "source": [
    "for i in range(len(out)):\n",
    "    out[i] = out[i][len(out[i])-m:]\n",
    "out"
   ]
  },
  {
   "cell_type": "code",
   "execution_count": 30,
   "metadata": {},
   "outputs": [
    {
     "data": {
      "text/plain": [
       "'0111000101110111011001010111001001110100011110011001'"
      ]
     },
     "execution_count": 30,
     "metadata": {},
     "output_type": "execute_result"
    }
   ],
   "source": [
    "opstr = ''\n",
    "for i in out: \n",
    "    opstr = opstr + i\n",
    "opstr"
   ]
  },
  {
   "cell_type": "code",
   "execution_count": 31,
   "metadata": {},
   "outputs": [
    {
     "data": {
      "text/plain": [
       "['q', 'w', 'e', 'r', 't', 'y']"
      ]
     },
     "execution_count": 31,
     "metadata": {},
     "output_type": "execute_result"
    }
   ],
   "source": [
    "decrypt = []\n",
    "j = 0\n",
    "while j<len(opstr):\n",
    "    decrypt.append(opstr[j:j+8])\n",
    "    j = j+8\n",
    "    if(len(decrypt[-1])<8):\n",
    "        decrypt.remove(decrypt[-1])\n",
    "decrypt\n",
    "for i in range(len(decrypt)):\n",
    "    decrypt[i] = str_to_bin(decrypt[i])\n",
    "decrypt\n",
    "output = [chr(x) for x in decrypt]\n",
    "output"
   ]
  },
  {
   "cell_type": "code",
   "execution_count": null,
   "metadata": {},
   "outputs": [],
   "source": []
  }
 ],
 "metadata": {
  "kernelspec": {
   "display_name": "Python 3",
   "language": "python",
   "name": "python3"
  },
  "language_info": {
   "codemirror_mode": {
    "name": "ipython",
    "version": 3
   },
   "file_extension": ".py",
   "mimetype": "text/x-python",
   "name": "python",
   "nbconvert_exporter": "python",
   "pygments_lexer": "ipython3",
   "version": "3.7.1"
  }
 },
 "nbformat": 4,
 "nbformat_minor": 2
}
